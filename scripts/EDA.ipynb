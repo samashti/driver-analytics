{
 "cells": [
  {
   "cell_type": "markdown",
   "metadata": {},
   "source": [
    "# Driver Engagement Analysis - EDA"
   ]
  },
  {
   "cell_type": "code",
   "execution_count": 1,
   "metadata": {},
   "outputs": [],
   "source": [
    "from glob import glob\n",
    "from pathlib import Path\n",
    "\n",
    "import numpy as np\n",
    "import pandas as pd\n",
    "\n",
    "import seaborn as sns\n",
    "import matplotlib.pyplot as plt\n",
    "\n",
    "from tqdm.notebook import tqdm\n",
    "from rich.progress import track\n",
    "\n",
    "import warnings\n",
    "warnings.filterwarnings('ignore')\n",
    "\n",
    "tqdm.pandas()"
   ]
  },
  {
   "cell_type": "code",
   "execution_count": 2,
   "metadata": {},
   "outputs": [],
   "source": [
    "fpath = Path.cwd().parent.joinpath('data')\n",
    "files = {\n",
    "    'driver_master': 'drivers_master.feather',\n",
    "    'delivery_log': 'drivers_delivery_log.feather',\n",
    "    'delivery_bydate': 'drivers_delivery_by_date.feather',\n",
    "    'breaks_bydate': 'drivers_breaks_by_date.feather',\n",
    "    'engage_report': 'drivers_engagement_clubs.feather',\n",
    "    'club_report': 'driver_clubs_report_by_date.feather',\n",
    "}"
   ]
  },
  {
   "cell_type": "code",
   "execution_count": 3,
   "metadata": {},
   "outputs": [
    {
     "data": {
      "text/html": [
       "<div>\n",
       "<style scoped>\n",
       "    .dataframe tbody tr th:only-of-type {\n",
       "        vertical-align: middle;\n",
       "    }\n",
       "\n",
       "    .dataframe tbody tr th {\n",
       "        vertical-align: top;\n",
       "    }\n",
       "\n",
       "    .dataframe thead th {\n",
       "        text-align: right;\n",
       "    }\n",
       "</style>\n",
       "<table border=\"1\" class=\"dataframe\">\n",
       "  <thead>\n",
       "    <tr style=\"text-align: right;\">\n",
       "      <th></th>\n",
       "      <th>driver_id</th>\n",
       "      <th>timestamp</th>\n",
       "      <th>flag</th>\n",
       "      <th>start_lon</th>\n",
       "      <th>start_lat</th>\n",
       "      <th>end_lon</th>\n",
       "      <th>end_lat</th>\n",
       "      <th>time_spent</th>\n",
       "    </tr>\n",
       "  </thead>\n",
       "  <tbody>\n",
       "    <tr>\n",
       "      <th>0</th>\n",
       "      <td>bbf1910de257</td>\n",
       "      <td>2021-08-02 09:00:00</td>\n",
       "      <td>b-start</td>\n",
       "      <td>77.730816</td>\n",
       "      <td>12.803997</td>\n",
       "      <td>77.730816</td>\n",
       "      <td>12.803997</td>\n",
       "      <td>NaN</td>\n",
       "    </tr>\n",
       "    <tr>\n",
       "      <th>1</th>\n",
       "      <td>5e0cb788b634</td>\n",
       "      <td>2021-08-02 09:00:00</td>\n",
       "      <td>b-start</td>\n",
       "      <td>77.734455</td>\n",
       "      <td>13.067857</td>\n",
       "      <td>77.734455</td>\n",
       "      <td>13.067857</td>\n",
       "      <td>NaN</td>\n",
       "    </tr>\n",
       "    <tr>\n",
       "      <th>2</th>\n",
       "      <td>f9565e9303c8</td>\n",
       "      <td>2021-08-02 09:00:00</td>\n",
       "      <td>b-start</td>\n",
       "      <td>77.504914</td>\n",
       "      <td>12.944353</td>\n",
       "      <td>77.504914</td>\n",
       "      <td>12.944353</td>\n",
       "      <td>NaN</td>\n",
       "    </tr>\n",
       "    <tr>\n",
       "      <th>3</th>\n",
       "      <td>2993bceb3298</td>\n",
       "      <td>2021-08-02 09:00:00</td>\n",
       "      <td>b-start</td>\n",
       "      <td>77.596622</td>\n",
       "      <td>12.809530</td>\n",
       "      <td>77.663356</td>\n",
       "      <td>12.805215</td>\n",
       "      <td>NaN</td>\n",
       "    </tr>\n",
       "    <tr>\n",
       "      <th>4</th>\n",
       "      <td>3126568d831e</td>\n",
       "      <td>2021-08-02 09:00:00</td>\n",
       "      <td>b-start</td>\n",
       "      <td>77.734455</td>\n",
       "      <td>13.067857</td>\n",
       "      <td>77.734455</td>\n",
       "      <td>13.067857</td>\n",
       "      <td>NaN</td>\n",
       "    </tr>\n",
       "  </tbody>\n",
       "</table>\n",
       "</div>"
      ],
      "text/plain": [
       "      driver_id           timestamp     flag  start_lon  start_lat    end_lon  \\\n",
       "0  bbf1910de257 2021-08-02 09:00:00  b-start  77.730816  12.803997  77.730816   \n",
       "1  5e0cb788b634 2021-08-02 09:00:00  b-start  77.734455  13.067857  77.734455   \n",
       "2  f9565e9303c8 2021-08-02 09:00:00  b-start  77.504914  12.944353  77.504914   \n",
       "3  2993bceb3298 2021-08-02 09:00:00  b-start  77.596622  12.809530  77.663356   \n",
       "4  3126568d831e 2021-08-02 09:00:00  b-start  77.734455  13.067857  77.734455   \n",
       "\n",
       "     end_lat  time_spent  \n",
       "0  12.803997         NaN  \n",
       "1  13.067857         NaN  \n",
       "2  12.944353         NaN  \n",
       "3  12.805215         NaN  \n",
       "4  13.067857         NaN  "
      ]
     },
     "execution_count": 3,
     "metadata": {},
     "output_type": "execute_result"
    }
   ],
   "source": [
    "# driver delivery log\n",
    "df_log = pd.read_feather(fpath.joinpath(files['delivery_log']))\n",
    "df_log.head()"
   ]
  },
  {
   "cell_type": "code",
   "execution_count": 4,
   "metadata": {},
   "outputs": [
    {
     "data": {
      "text/html": [
       "<div>\n",
       "<style scoped>\n",
       "    .dataframe tbody tr th:only-of-type {\n",
       "        vertical-align: middle;\n",
       "    }\n",
       "\n",
       "    .dataframe tbody tr th {\n",
       "        vertical-align: top;\n",
       "    }\n",
       "\n",
       "    .dataframe thead th {\n",
       "        text-align: right;\n",
       "    }\n",
       "</style>\n",
       "<table border=\"1\" class=\"dataframe\">\n",
       "  <thead>\n",
       "    <tr style=\"text-align: right;\">\n",
       "      <th></th>\n",
       "      <th>driver_id</th>\n",
       "      <th>date</th>\n",
       "      <th>flag</th>\n",
       "      <th>trips</th>\n",
       "      <th>time_spent</th>\n",
       "      <th>distance</th>\n",
       "    </tr>\n",
       "  </thead>\n",
       "  <tbody>\n",
       "    <tr>\n",
       "      <th>0</th>\n",
       "      <td>00960ead6881</td>\n",
       "      <td>2021-08-02</td>\n",
       "      <td>delivered</td>\n",
       "      <td>0.0</td>\n",
       "      <td>0.0</td>\n",
       "      <td>0.0</td>\n",
       "    </tr>\n",
       "    <tr>\n",
       "      <th>1</th>\n",
       "      <td>00960ead6881</td>\n",
       "      <td>2021-08-03</td>\n",
       "      <td>delivered</td>\n",
       "      <td>0.0</td>\n",
       "      <td>0.0</td>\n",
       "      <td>0.0</td>\n",
       "    </tr>\n",
       "    <tr>\n",
       "      <th>2</th>\n",
       "      <td>00960ead6881</td>\n",
       "      <td>2021-08-04</td>\n",
       "      <td>delivered</td>\n",
       "      <td>0.0</td>\n",
       "      <td>0.0</td>\n",
       "      <td>0.0</td>\n",
       "    </tr>\n",
       "    <tr>\n",
       "      <th>3</th>\n",
       "      <td>00960ead6881</td>\n",
       "      <td>2021-08-05</td>\n",
       "      <td>delivered</td>\n",
       "      <td>0.0</td>\n",
       "      <td>0.0</td>\n",
       "      <td>0.0</td>\n",
       "    </tr>\n",
       "    <tr>\n",
       "      <th>4</th>\n",
       "      <td>00960ead6881</td>\n",
       "      <td>2021-08-06</td>\n",
       "      <td>delivered</td>\n",
       "      <td>0.0</td>\n",
       "      <td>0.0</td>\n",
       "      <td>0.0</td>\n",
       "    </tr>\n",
       "  </tbody>\n",
       "</table>\n",
       "</div>"
      ],
      "text/plain": [
       "      driver_id       date       flag  trips  time_spent  distance\n",
       "0  00960ead6881 2021-08-02  delivered    0.0         0.0       0.0\n",
       "1  00960ead6881 2021-08-03  delivered    0.0         0.0       0.0\n",
       "2  00960ead6881 2021-08-04  delivered    0.0         0.0       0.0\n",
       "3  00960ead6881 2021-08-05  delivered    0.0         0.0       0.0\n",
       "4  00960ead6881 2021-08-06  delivered    0.0         0.0       0.0"
      ]
     },
     "execution_count": 4,
     "metadata": {},
     "output_type": "execute_result"
    }
   ],
   "source": [
    "# driver delivery records aggregate by date\n",
    "df_delivery = pd.read_feather(fpath.joinpath(files['delivery_bydate']))\n",
    "df_delivery.head()"
   ]
  },
  {
   "cell_type": "code",
   "execution_count": 5,
   "metadata": {},
   "outputs": [
    {
     "data": {
      "text/html": [
       "<div>\n",
       "<style scoped>\n",
       "    .dataframe tbody tr th:only-of-type {\n",
       "        vertical-align: middle;\n",
       "    }\n",
       "\n",
       "    .dataframe tbody tr th {\n",
       "        vertical-align: top;\n",
       "    }\n",
       "\n",
       "    .dataframe thead th {\n",
       "        text-align: right;\n",
       "    }\n",
       "</style>\n",
       "<table border=\"1\" class=\"dataframe\">\n",
       "  <thead>\n",
       "    <tr style=\"text-align: right;\">\n",
       "      <th></th>\n",
       "      <th>driver_id</th>\n",
       "      <th>date</th>\n",
       "      <th>flag</th>\n",
       "      <th>trips</th>\n",
       "      <th>time_spent</th>\n",
       "      <th>distance</th>\n",
       "    </tr>\n",
       "  </thead>\n",
       "  <tbody>\n",
       "    <tr>\n",
       "      <th>0</th>\n",
       "      <td>00960ead6881</td>\n",
       "      <td>2021-08-02</td>\n",
       "      <td>b-end</td>\n",
       "      <td>0</td>\n",
       "      <td>600.0</td>\n",
       "      <td>0.0</td>\n",
       "    </tr>\n",
       "    <tr>\n",
       "      <th>1</th>\n",
       "      <td>00960ead6881</td>\n",
       "      <td>2021-08-03</td>\n",
       "      <td>b-end</td>\n",
       "      <td>0</td>\n",
       "      <td>600.0</td>\n",
       "      <td>0.0</td>\n",
       "    </tr>\n",
       "    <tr>\n",
       "      <th>2</th>\n",
       "      <td>00960ead6881</td>\n",
       "      <td>2021-08-04</td>\n",
       "      <td>b-end</td>\n",
       "      <td>0</td>\n",
       "      <td>600.0</td>\n",
       "      <td>0.0</td>\n",
       "    </tr>\n",
       "    <tr>\n",
       "      <th>3</th>\n",
       "      <td>00960ead6881</td>\n",
       "      <td>2021-08-05</td>\n",
       "      <td>b-end</td>\n",
       "      <td>0</td>\n",
       "      <td>600.0</td>\n",
       "      <td>0.0</td>\n",
       "    </tr>\n",
       "    <tr>\n",
       "      <th>4</th>\n",
       "      <td>00960ead6881</td>\n",
       "      <td>2021-08-06</td>\n",
       "      <td>b-end</td>\n",
       "      <td>0</td>\n",
       "      <td>600.0</td>\n",
       "      <td>0.0</td>\n",
       "    </tr>\n",
       "  </tbody>\n",
       "</table>\n",
       "</div>"
      ],
      "text/plain": [
       "      driver_id       date   flag  trips  time_spent  distance\n",
       "0  00960ead6881 2021-08-02  b-end      0       600.0       0.0\n",
       "1  00960ead6881 2021-08-03  b-end      0       600.0       0.0\n",
       "2  00960ead6881 2021-08-04  b-end      0       600.0       0.0\n",
       "3  00960ead6881 2021-08-05  b-end      0       600.0       0.0\n",
       "4  00960ead6881 2021-08-06  b-end      0       600.0       0.0"
      ]
     },
     "execution_count": 5,
     "metadata": {},
     "output_type": "execute_result"
    }
   ],
   "source": [
    "# driver breaks records aggregate by date\n",
    "df_breaks = pd.read_feather(fpath.joinpath(files['breaks_bydate']))\n",
    "df_breaks.head()"
   ]
  },
  {
   "cell_type": "code",
   "execution_count": 6,
   "metadata": {},
   "outputs": [
    {
     "data": {
      "text/html": [
       "<div>\n",
       "<style scoped>\n",
       "    .dataframe tbody tr th:only-of-type {\n",
       "        vertical-align: middle;\n",
       "    }\n",
       "\n",
       "    .dataframe tbody tr th {\n",
       "        vertical-align: top;\n",
       "    }\n",
       "\n",
       "    .dataframe thead th {\n",
       "        text-align: right;\n",
       "    }\n",
       "</style>\n",
       "<table border=\"1\" class=\"dataframe\">\n",
       "  <thead>\n",
       "    <tr style=\"text-align: right;\">\n",
       "      <th></th>\n",
       "      <th>driver_id</th>\n",
       "      <th>date</th>\n",
       "      <th>flag</th>\n",
       "      <th>trips</th>\n",
       "      <th>time_spent</th>\n",
       "      <th>distance</th>\n",
       "      <th>category</th>\n",
       "      <th>change</th>\n",
       "      <th>change_flag</th>\n",
       "    </tr>\n",
       "  </thead>\n",
       "  <tbody>\n",
       "    <tr>\n",
       "      <th>0</th>\n",
       "      <td>00960ead6881</td>\n",
       "      <td>2021-08-02</td>\n",
       "      <td>delivered</td>\n",
       "      <td>0.0</td>\n",
       "      <td>0.0</td>\n",
       "      <td>0.0</td>\n",
       "      <td>PD</td>\n",
       "      <td>NaN</td>\n",
       "      <td>None</td>\n",
       "    </tr>\n",
       "    <tr>\n",
       "      <th>1</th>\n",
       "      <td>00960ead6881</td>\n",
       "      <td>2021-08-03</td>\n",
       "      <td>delivered</td>\n",
       "      <td>0.0</td>\n",
       "      <td>0.0</td>\n",
       "      <td>0.0</td>\n",
       "      <td>PD</td>\n",
       "      <td>0.0</td>\n",
       "      <td>NoChange</td>\n",
       "    </tr>\n",
       "    <tr>\n",
       "      <th>2</th>\n",
       "      <td>00960ead6881</td>\n",
       "      <td>2021-08-04</td>\n",
       "      <td>delivered</td>\n",
       "      <td>0.0</td>\n",
       "      <td>0.0</td>\n",
       "      <td>0.0</td>\n",
       "      <td>PD</td>\n",
       "      <td>0.0</td>\n",
       "      <td>NoChange</td>\n",
       "    </tr>\n",
       "    <tr>\n",
       "      <th>3</th>\n",
       "      <td>00960ead6881</td>\n",
       "      <td>2021-08-05</td>\n",
       "      <td>delivered</td>\n",
       "      <td>0.0</td>\n",
       "      <td>0.0</td>\n",
       "      <td>0.0</td>\n",
       "      <td>PD</td>\n",
       "      <td>0.0</td>\n",
       "      <td>NoChange</td>\n",
       "    </tr>\n",
       "    <tr>\n",
       "      <th>4</th>\n",
       "      <td>00960ead6881</td>\n",
       "      <td>2021-08-06</td>\n",
       "      <td>delivered</td>\n",
       "      <td>0.0</td>\n",
       "      <td>0.0</td>\n",
       "      <td>0.0</td>\n",
       "      <td>PD</td>\n",
       "      <td>0.0</td>\n",
       "      <td>NoChange</td>\n",
       "    </tr>\n",
       "  </tbody>\n",
       "</table>\n",
       "</div>"
      ],
      "text/plain": [
       "      driver_id       date       flag  trips  time_spent  distance category  \\\n",
       "0  00960ead6881 2021-08-02  delivered    0.0         0.0       0.0       PD   \n",
       "1  00960ead6881 2021-08-03  delivered    0.0         0.0       0.0       PD   \n",
       "2  00960ead6881 2021-08-04  delivered    0.0         0.0       0.0       PD   \n",
       "3  00960ead6881 2021-08-05  delivered    0.0         0.0       0.0       PD   \n",
       "4  00960ead6881 2021-08-06  delivered    0.0         0.0       0.0       PD   \n",
       "\n",
       "   change change_flag  \n",
       "0     NaN        None  \n",
       "1     0.0    NoChange  \n",
       "2     0.0    NoChange  \n",
       "3     0.0    NoChange  \n",
       "4     0.0    NoChange  "
      ]
     },
     "execution_count": 6,
     "metadata": {},
     "output_type": "execute_result"
    }
   ],
   "source": [
    "# driver engagement cohort changes report\n",
    "df_cohort = pd.read_feather(fpath.joinpath(files['engage_report']))\n",
    "df_cohort.head()"
   ]
  },
  {
   "cell_type": "code",
   "execution_count": 7,
   "metadata": {},
   "outputs": [
    {
     "data": {
      "text/html": [
       "<div>\n",
       "<style scoped>\n",
       "    .dataframe tbody tr th:only-of-type {\n",
       "        vertical-align: middle;\n",
       "    }\n",
       "\n",
       "    .dataframe tbody tr th {\n",
       "        vertical-align: top;\n",
       "    }\n",
       "\n",
       "    .dataframe thead th {\n",
       "        text-align: right;\n",
       "    }\n",
       "</style>\n",
       "<table border=\"1\" class=\"dataframe\">\n",
       "  <thead>\n",
       "    <tr style=\"text-align: right;\">\n",
       "      <th></th>\n",
       "      <th>date</th>\n",
       "      <th>AD</th>\n",
       "      <th>EAD</th>\n",
       "      <th>PD</th>\n",
       "      <th>UAD</th>\n",
       "    </tr>\n",
       "  </thead>\n",
       "  <tbody>\n",
       "    <tr>\n",
       "      <th>0</th>\n",
       "      <td>2021-08-02</td>\n",
       "      <td>0</td>\n",
       "      <td>0</td>\n",
       "      <td>1000</td>\n",
       "      <td>0</td>\n",
       "    </tr>\n",
       "    <tr>\n",
       "      <th>1</th>\n",
       "      <td>2021-08-03</td>\n",
       "      <td>29</td>\n",
       "      <td>0</td>\n",
       "      <td>971</td>\n",
       "      <td>0</td>\n",
       "    </tr>\n",
       "    <tr>\n",
       "      <th>2</th>\n",
       "      <td>2021-08-04</td>\n",
       "      <td>99</td>\n",
       "      <td>0</td>\n",
       "      <td>901</td>\n",
       "      <td>0</td>\n",
       "    </tr>\n",
       "    <tr>\n",
       "      <th>3</th>\n",
       "      <td>2021-08-05</td>\n",
       "      <td>172</td>\n",
       "      <td>1</td>\n",
       "      <td>827</td>\n",
       "      <td>0</td>\n",
       "    </tr>\n",
       "    <tr>\n",
       "      <th>4</th>\n",
       "      <td>2021-08-06</td>\n",
       "      <td>247</td>\n",
       "      <td>2</td>\n",
       "      <td>751</td>\n",
       "      <td>0</td>\n",
       "    </tr>\n",
       "  </tbody>\n",
       "</table>\n",
       "</div>"
      ],
      "text/plain": [
       "        date   AD  EAD    PD  UAD\n",
       "0 2021-08-02    0    0  1000    0\n",
       "1 2021-08-03   29    0   971    0\n",
       "2 2021-08-04   99    0   901    0\n",
       "3 2021-08-05  172    1   827    0\n",
       "4 2021-08-06  247    2   751    0"
      ]
     },
     "execution_count": 7,
     "metadata": {},
     "output_type": "execute_result"
    }
   ],
   "source": [
    "# driver engagement cohort changes report\n",
    "df_club = pd.read_feather(fpath.joinpath(files['club_report']))\n",
    "df_club.head()"
   ]
  },
  {
   "cell_type": "code",
   "execution_count": 8,
   "metadata": {},
   "outputs": [
    {
     "data": {
      "text/plain": [
       "b-start      125446\n",
       "b-end        125446\n",
       "picked-up     39351\n",
       "delivered     39351\n",
       "Name: flag, dtype: int64"
      ]
     },
     "execution_count": 8,
     "metadata": {},
     "output_type": "execute_result"
    }
   ],
   "source": [
    "# Comparison of Break time logs vs Delivery logs\n",
    "df_log.flag.value_counts()"
   ]
  },
  {
   "cell_type": "markdown",
   "metadata": {},
   "source": [
    "### What's the distribution of number of delivery trips taken on each day by all drivers over the analysis period?"
   ]
  },
  {
   "cell_type": "code",
   "execution_count": 9,
   "metadata": {},
   "outputs": [
    {
     "data": {
      "text/html": [
       "<div>\n",
       "<style scoped>\n",
       "    .dataframe tbody tr th:only-of-type {\n",
       "        vertical-align: middle;\n",
       "    }\n",
       "\n",
       "    .dataframe tbody tr th {\n",
       "        vertical-align: top;\n",
       "    }\n",
       "\n",
       "    .dataframe thead th {\n",
       "        text-align: right;\n",
       "    }\n",
       "</style>\n",
       "<table border=\"1\" class=\"dataframe\">\n",
       "  <thead>\n",
       "    <tr style=\"text-align: right;\">\n",
       "      <th></th>\n",
       "      <th>trips</th>\n",
       "      <th>time_spent</th>\n",
       "      <th>distance</th>\n",
       "    </tr>\n",
       "    <tr>\n",
       "      <th>date</th>\n",
       "      <th></th>\n",
       "      <th></th>\n",
       "      <th></th>\n",
       "    </tr>\n",
       "  </thead>\n",
       "  <tbody>\n",
       "    <tr>\n",
       "      <th>2021-08-02</th>\n",
       "      <td>469.0</td>\n",
       "      <td>2581.426</td>\n",
       "      <td>1505.74</td>\n",
       "    </tr>\n",
       "    <tr>\n",
       "      <th>2021-08-03</th>\n",
       "      <td>439.0</td>\n",
       "      <td>2435.588</td>\n",
       "      <td>1420.77</td>\n",
       "    </tr>\n",
       "    <tr>\n",
       "      <th>2021-08-04</th>\n",
       "      <td>501.0</td>\n",
       "      <td>2804.744</td>\n",
       "      <td>1636.11</td>\n",
       "    </tr>\n",
       "    <tr>\n",
       "      <th>2021-08-05</th>\n",
       "      <td>440.0</td>\n",
       "      <td>2501.643</td>\n",
       "      <td>1459.33</td>\n",
       "    </tr>\n",
       "    <tr>\n",
       "      <th>2021-08-06</th>\n",
       "      <td>445.0</td>\n",
       "      <td>2463.248</td>\n",
       "      <td>1436.92</td>\n",
       "    </tr>\n",
       "  </tbody>\n",
       "</table>\n",
       "</div>"
      ],
      "text/plain": [
       "            trips  time_spent  distance\n",
       "date                                   \n",
       "2021-08-02  469.0    2581.426   1505.74\n",
       "2021-08-03  439.0    2435.588   1420.77\n",
       "2021-08-04  501.0    2804.744   1636.11\n",
       "2021-08-05  440.0    2501.643   1459.33\n",
       "2021-08-06  445.0    2463.248   1436.92"
      ]
     },
     "execution_count": 9,
     "metadata": {},
     "output_type": "execute_result"
    }
   ],
   "source": [
    "trips = df_delivery.groupby('date').agg({'trips':'sum', 'time_spent':'sum', 'distance':'sum'})\n",
    "trips.head()"
   ]
  },
  {
   "cell_type": "code",
   "execution_count": 10,
   "metadata": {},
   "outputs": [
    {
     "data": {
      "image/png": "[encoded data removed]",
      "text/plain": [
       "<Figure size 864x576 with 1 Axes>"
      ]
     },
     "metadata": {
      "needs_background": "light"
     },
     "output_type": "display_data"
    }
   ],
   "source": [
    "plt.figure(figsize=(12, 8))\n",
    "sns.lineplot(data=trips.reset_index(), x='date',\n",
    "             y='trips', linewidth=2)\n",
    "plt.show()"
   ]
  },
  {
   "cell_type": "markdown",
   "metadata": {},
   "source": [
    "### Which month had the highest number of delivery trips made?\n",
    "### Which month had the highest time spent on delivery trips?\n",
    "### Which month had the lowest distance covered for deliver trips?"
   ]
  },
  {
   "cell_type": "code",
   "execution_count": 11,
   "metadata": {},
   "outputs": [
    {
     "name": "stdout",
     "output_type": "stream",
     "text": [
      "Month with highest number of delivery trips - August\n",
      "Month with highest time spent on deliveries - September\n",
      "Month with lowest distance covered for deliveries - October\n"
     ]
    }
   ],
   "source": [
    "_df = df_delivery.copy()\n",
    "_df['month'] = _df['date'].apply(lambda x: x.month_name())\n",
    "agg = _df.groupby('month').agg({'trips':'sum', 'time_spent':'sum', 'distance':'sum'})\n",
    "\n",
    "a_1 = agg[agg['trips'] == agg.trips.max()].index[0]\n",
    "a_2 = agg[agg['time_spent'] == agg.time_spent.max()].index[0]\n",
    "a_3 = agg[agg['distance'] == agg.distance.min()].index[0]\n",
    "print('Month with highest number of delivery trips -', a_1)\n",
    "print('Month with highest time spent on deliveries -', a_2)\n",
    "print('Month with lowest distance covered for deliveries -', a_3)"
   ]
  },
  {
   "cell_type": "markdown",
   "metadata": {},
   "source": [
    "### Top 5 drivers with most deliveries, time spent and distance covered over the analysis period"
   ]
  },
  {
   "cell_type": "code",
   "execution_count": 12,
   "metadata": {},
   "outputs": [
    {
     "data": {
      "text/html": [
       "<div>\n",
       "<style scoped>\n",
       "    .dataframe tbody tr th:only-of-type {\n",
       "        vertical-align: middle;\n",
       "    }\n",
       "\n",
       "    .dataframe tbody tr th {\n",
       "        vertical-align: top;\n",
       "    }\n",
       "\n",
       "    .dataframe thead th {\n",
       "        text-align: right;\n",
       "    }\n",
       "</style>\n",
       "<table border=\"1\" class=\"dataframe\">\n",
       "  <thead>\n",
       "    <tr style=\"text-align: right;\">\n",
       "      <th></th>\n",
       "      <th>trips</th>\n",
       "      <th>time_spent</th>\n",
       "      <th>distance</th>\n",
       "    </tr>\n",
       "    <tr>\n",
       "      <th>driver_id</th>\n",
       "      <th></th>\n",
       "      <th></th>\n",
       "      <th></th>\n",
       "    </tr>\n",
       "  </thead>\n",
       "  <tbody>\n",
       "    <tr>\n",
       "      <th>00960ead6881</th>\n",
       "      <td>45.0</td>\n",
       "      <td>233.041</td>\n",
       "      <td>135.94</td>\n",
       "    </tr>\n",
       "    <tr>\n",
       "      <th>00a4290ceeac</th>\n",
       "      <td>48.0</td>\n",
       "      <td>289.672</td>\n",
       "      <td>168.96</td>\n",
       "    </tr>\n",
       "    <tr>\n",
       "      <th>0143edcc60e5</th>\n",
       "      <td>49.0</td>\n",
       "      <td>270.474</td>\n",
       "      <td>157.76</td>\n",
       "    </tr>\n",
       "    <tr>\n",
       "      <th>016370627b09</th>\n",
       "      <td>34.0</td>\n",
       "      <td>179.854</td>\n",
       "      <td>104.93</td>\n",
       "    </tr>\n",
       "    <tr>\n",
       "      <th>0186dad499c9</th>\n",
       "      <td>46.0</td>\n",
       "      <td>261.155</td>\n",
       "      <td>152.36</td>\n",
       "    </tr>\n",
       "  </tbody>\n",
       "</table>\n",
       "</div>"
      ],
      "text/plain": [
       "              trips  time_spent  distance\n",
       "driver_id                                \n",
       "00960ead6881   45.0     233.041    135.94\n",
       "00a4290ceeac   48.0     289.672    168.96\n",
       "0143edcc60e5   49.0     270.474    157.76\n",
       "016370627b09   34.0     179.854    104.93\n",
       "0186dad499c9   46.0     261.155    152.36"
      ]
     },
     "execution_count": 12,
     "metadata": {},
     "output_type": "execute_result"
    }
   ],
   "source": [
    "drv = df_delivery.groupby('driver_id').agg({'trips': 'sum', 'time_spent': 'sum', 'distance': 'sum'})\n",
    "drv.head()"
   ]
  },
  {
   "cell_type": "code",
   "execution_count": 13,
   "metadata": {},
   "outputs": [
    {
     "data": {
      "text/plain": [
       "driver_id\n",
       "c356f7b8d4f5    66.0\n",
       "4f29ba60cf48    64.0\n",
       "4699212de1d2    62.0\n",
       "c2dd1bf17660    61.0\n",
       "e1be181e5234    61.0\n",
       "Name: trips, dtype: float64"
      ]
     },
     "execution_count": 13,
     "metadata": {},
     "output_type": "execute_result"
    }
   ],
   "source": [
    "# Top 5 - Trips\n",
    "drv.sort_values(by='trips', ascending=False)['trips'].head()"
   ]
  },
  {
   "cell_type": "code",
   "execution_count": 14,
   "metadata": {},
   "outputs": [
    {
     "data": {
      "text/plain": [
       "driver_id\n",
       "4f29ba60cf48    386.632\n",
       "c356f7b8d4f5    379.172\n",
       "4699212de1d2    372.145\n",
       "c2dd1bf17660    366.242\n",
       "3d2732c440c7    363.194\n",
       "Name: time_spent, dtype: float64"
      ]
     },
     "execution_count": 14,
     "metadata": {},
     "output_type": "execute_result"
    }
   ],
   "source": [
    "# Top 5 - Time Spent (in minutes)\n",
    "drv.sort_values(by='time_spent', ascending=False)['time_spent'].head()"
   ]
  },
  {
   "cell_type": "code",
   "execution_count": 15,
   "metadata": {},
   "outputs": [
    {
     "data": {
      "text/plain": [
       "driver_id\n",
       "4f29ba60cf48    225.54\n",
       "c356f7b8d4f5    221.20\n",
       "4699212de1d2    217.09\n",
       "c2dd1bf17660    213.68\n",
       "3d2732c440c7    211.87\n",
       "Name: distance, dtype: float64"
      ]
     },
     "execution_count": 15,
     "metadata": {},
     "output_type": "execute_result"
    }
   ],
   "source": [
    "# Top 5 - Distance (in km)\n",
    "drv.sort_values(by='distance', ascending=False)['distance'].head()"
   ]
  },
  {
   "cell_type": "markdown",
   "metadata": {},
   "source": [
    "### Which drivers had most & least days without any delivery assignments?"
   ]
  },
  {
   "cell_type": "code",
   "execution_count": 16,
   "metadata": {},
   "outputs": [],
   "source": [
    "empty = df_breaks[df_breaks['time_spent'] >= 600].groupby('driver_id').agg({'date':'count'})\n",
    "empty = empty.rename(columns={'date':'days'})"
   ]
  },
  {
   "cell_type": "code",
   "execution_count": 17,
   "metadata": {},
   "outputs": [
    {
     "data": {
      "text/html": [
       "<div>\n",
       "<style scoped>\n",
       "    .dataframe tbody tr th:only-of-type {\n",
       "        vertical-align: middle;\n",
       "    }\n",
       "\n",
       "    .dataframe tbody tr th {\n",
       "        vertical-align: top;\n",
       "    }\n",
       "\n",
       "    .dataframe thead th {\n",
       "        text-align: right;\n",
       "    }\n",
       "</style>\n",
       "<table border=\"1\" class=\"dataframe\">\n",
       "  <thead>\n",
       "    <tr style=\"text-align: right;\">\n",
       "      <th></th>\n",
       "      <th>driver_id</th>\n",
       "      <th>days</th>\n",
       "    </tr>\n",
       "  </thead>\n",
       "  <tbody>\n",
       "    <tr>\n",
       "      <th>0</th>\n",
       "      <td>eb1b72b9856c</td>\n",
       "      <td>74</td>\n",
       "    </tr>\n",
       "    <tr>\n",
       "      <th>1</th>\n",
       "      <td>2993bceb3298</td>\n",
       "      <td>72</td>\n",
       "    </tr>\n",
       "    <tr>\n",
       "      <th>2</th>\n",
       "      <td>63acfadae72e</td>\n",
       "      <td>72</td>\n",
       "    </tr>\n",
       "    <tr>\n",
       "      <th>3</th>\n",
       "      <td>46f901a045b0</td>\n",
       "      <td>71</td>\n",
       "    </tr>\n",
       "    <tr>\n",
       "      <th>4</th>\n",
       "      <td>182ca26cb550</td>\n",
       "      <td>71</td>\n",
       "    </tr>\n",
       "  </tbody>\n",
       "</table>\n",
       "</div>"
      ],
      "text/plain": [
       "      driver_id  days\n",
       "0  eb1b72b9856c    74\n",
       "1  2993bceb3298    72\n",
       "2  63acfadae72e    72\n",
       "3  46f901a045b0    71\n",
       "4  182ca26cb550    71"
      ]
     },
     "execution_count": 17,
     "metadata": {},
     "output_type": "execute_result"
    }
   ],
   "source": [
    "# Most Days without delivery Assignments\n",
    "empty.sort_values(by='days', ascending=False).reset_index().head()"
   ]
  },
  {
   "cell_type": "code",
   "execution_count": 18,
   "metadata": {},
   "outputs": [
    {
     "data": {
      "text/html": [
       "<div>\n",
       "<style scoped>\n",
       "    .dataframe tbody tr th:only-of-type {\n",
       "        vertical-align: middle;\n",
       "    }\n",
       "\n",
       "    .dataframe tbody tr th {\n",
       "        vertical-align: top;\n",
       "    }\n",
       "\n",
       "    .dataframe thead th {\n",
       "        text-align: right;\n",
       "    }\n",
       "</style>\n",
       "<table border=\"1\" class=\"dataframe\">\n",
       "  <thead>\n",
       "    <tr style=\"text-align: right;\">\n",
       "      <th></th>\n",
       "      <th>driver_id</th>\n",
       "      <th>days</th>\n",
       "    </tr>\n",
       "  </thead>\n",
       "  <tbody>\n",
       "    <tr>\n",
       "      <th>0</th>\n",
       "      <td>4699212de1d2</td>\n",
       "      <td>45</td>\n",
       "    </tr>\n",
       "    <tr>\n",
       "      <th>1</th>\n",
       "      <td>e1be181e5234</td>\n",
       "      <td>47</td>\n",
       "    </tr>\n",
       "    <tr>\n",
       "      <th>2</th>\n",
       "      <td>48726cc79db0</td>\n",
       "      <td>48</td>\n",
       "    </tr>\n",
       "    <tr>\n",
       "      <th>3</th>\n",
       "      <td>bf9e07af0015</td>\n",
       "      <td>49</td>\n",
       "    </tr>\n",
       "    <tr>\n",
       "      <th>4</th>\n",
       "      <td>c356f7b8d4f5</td>\n",
       "      <td>49</td>\n",
       "    </tr>\n",
       "  </tbody>\n",
       "</table>\n",
       "</div>"
      ],
      "text/plain": [
       "      driver_id  days\n",
       "0  4699212de1d2    45\n",
       "1  e1be181e5234    47\n",
       "2  48726cc79db0    48\n",
       "3  bf9e07af0015    49\n",
       "4  c356f7b8d4f5    49"
      ]
     },
     "execution_count": 18,
     "metadata": {},
     "output_type": "execute_result"
    }
   ],
   "source": [
    "# Least Days without delivery Assignments\n",
    "empty.sort_values(by='days', ascending=True).reset_index().head()"
   ]
  },
  {
   "cell_type": "markdown",
   "metadata": {},
   "source": [
    "### Average time spent and distance travelled by drivers in each month"
   ]
  },
  {
   "cell_type": "code",
   "execution_count": 19,
   "metadata": {},
   "outputs": [
    {
     "data": {
      "text/html": [
       "<div>\n",
       "<style scoped>\n",
       "    .dataframe tbody tr th:only-of-type {\n",
       "        vertical-align: middle;\n",
       "    }\n",
       "\n",
       "    .dataframe tbody tr th {\n",
       "        vertical-align: top;\n",
       "    }\n",
       "\n",
       "    .dataframe thead th {\n",
       "        text-align: right;\n",
       "    }\n",
       "</style>\n",
       "<table border=\"1\" class=\"dataframe\">\n",
       "  <thead>\n",
       "    <tr style=\"text-align: right;\">\n",
       "      <th></th>\n",
       "      <th>time_spent</th>\n",
       "      <th>distance</th>\n",
       "    </tr>\n",
       "    <tr>\n",
       "      <th>month</th>\n",
       "      <th></th>\n",
       "      <th></th>\n",
       "    </tr>\n",
       "  </thead>\n",
       "  <tbody>\n",
       "    <tr>\n",
       "      <th>August</th>\n",
       "      <td>8.494564</td>\n",
       "      <td>4.955176</td>\n",
       "    </tr>\n",
       "    <tr>\n",
       "      <th>November</th>\n",
       "      <td>8.454996</td>\n",
       "      <td>4.932090</td>\n",
       "    </tr>\n",
       "    <tr>\n",
       "      <th>October</th>\n",
       "      <td>8.493199</td>\n",
       "      <td>4.954403</td>\n",
       "    </tr>\n",
       "    <tr>\n",
       "      <th>September</th>\n",
       "      <td>8.578442</td>\n",
       "      <td>5.004107</td>\n",
       "    </tr>\n",
       "  </tbody>\n",
       "</table>\n",
       "</div>"
      ],
      "text/plain": [
       "           time_spent  distance\n",
       "month                          \n",
       "August       8.494564  4.955176\n",
       "November     8.454996  4.932090\n",
       "October      8.493199  4.954403\n",
       "September    8.578442  5.004107"
      ]
     },
     "execution_count": 19,
     "metadata": {},
     "output_type": "execute_result"
    }
   ],
   "source": [
    "# time in minutes, distance in km\n",
    "_df[_df['trips'] != 0].groupby('month').agg({'time_spent':'mean', 'distance':'mean'})"
   ]
  },
  {
   "cell_type": "markdown",
   "metadata": {},
   "source": [
    "### How many days in the period had no deliveries by any driver?"
   ]
  },
  {
   "cell_type": "code",
   "execution_count": 20,
   "metadata": {},
   "outputs": [
    {
     "data": {
      "text/html": [
       "<div>\n",
       "<style scoped>\n",
       "    .dataframe tbody tr th:only-of-type {\n",
       "        vertical-align: middle;\n",
       "    }\n",
       "\n",
       "    .dataframe tbody tr th {\n",
       "        vertical-align: top;\n",
       "    }\n",
       "\n",
       "    .dataframe thead th {\n",
       "        text-align: right;\n",
       "    }\n",
       "</style>\n",
       "<table border=\"1\" class=\"dataframe\">\n",
       "  <thead>\n",
       "    <tr style=\"text-align: right;\">\n",
       "      <th></th>\n",
       "      <th>trips</th>\n",
       "    </tr>\n",
       "    <tr>\n",
       "      <th>date</th>\n",
       "      <th></th>\n",
       "    </tr>\n",
       "  </thead>\n",
       "  <tbody>\n",
       "    <tr>\n",
       "      <th>2021-11-15</th>\n",
       "      <td>383.0</td>\n",
       "    </tr>\n",
       "    <tr>\n",
       "      <th>2021-08-23</th>\n",
       "      <td>400.0</td>\n",
       "    </tr>\n",
       "    <tr>\n",
       "      <th>2021-10-25</th>\n",
       "      <td>404.0</td>\n",
       "    </tr>\n",
       "    <tr>\n",
       "      <th>2021-10-27</th>\n",
       "      <td>406.0</td>\n",
       "    </tr>\n",
       "    <tr>\n",
       "      <th>2021-08-10</th>\n",
       "      <td>406.0</td>\n",
       "    </tr>\n",
       "  </tbody>\n",
       "</table>\n",
       "</div>"
      ],
      "text/plain": [
       "            trips\n",
       "date             \n",
       "2021-11-15  383.0\n",
       "2021-08-23  400.0\n",
       "2021-10-25  404.0\n",
       "2021-10-27  406.0\n",
       "2021-08-10  406.0"
      ]
     },
     "execution_count": 20,
     "metadata": {},
     "output_type": "execute_result"
    }
   ],
   "source": [
    "df_delivery.groupby('date').agg({'trips':'sum'}).sort_values(by='trips').head()\n",
    "# There were no days with no deliveries cases in the day by any driver"
   ]
  },
  {
   "cell_type": "markdown",
   "metadata": {},
   "source": [
    "### How does the driver club distribution change over analysis period?"
   ]
  },
  {
   "cell_type": "code",
   "execution_count": 21,
   "metadata": {},
   "outputs": [
    {
     "data": {
      "image/png": "[encoded data removed]",
      "text/plain": [
       "<Figure size 864x576 with 1 Axes>"
      ]
     },
     "metadata": {
      "needs_background": "light"
     },
     "output_type": "display_data"
    }
   ],
   "source": [
    "plt.figure(figsize=(12, 8))\n",
    "sns.lineplot(data=df_club, palette=\"tab10\", linewidth=2.5)\n",
    "plt.show()"
   ]
  },
  {
   "cell_type": "markdown",
   "metadata": {},
   "source": [
    "### Which were the days with most drivers getting upgraded or downgraded in the driver engagement cohorts?"
   ]
  },
  {
   "cell_type": "code",
   "execution_count": 22,
   "metadata": {},
   "outputs": [
    {
     "data": {
      "text/html": [
       "<div>\n",
       "<style scoped>\n",
       "    .dataframe tbody tr th:only-of-type {\n",
       "        vertical-align: middle;\n",
       "    }\n",
       "\n",
       "    .dataframe tbody tr th {\n",
       "        vertical-align: top;\n",
       "    }\n",
       "\n",
       "    .dataframe thead th {\n",
       "        text-align: right;\n",
       "    }\n",
       "</style>\n",
       "<table border=\"1\" class=\"dataframe\">\n",
       "  <thead>\n",
       "    <tr style=\"text-align: right;\">\n",
       "      <th></th>\n",
       "      <th>date</th>\n",
       "      <th>change_flag</th>\n",
       "      <th>driver_id</th>\n",
       "    </tr>\n",
       "  </thead>\n",
       "  <tbody>\n",
       "    <tr>\n",
       "      <th>21</th>\n",
       "      <td>2021-08-17</td>\n",
       "      <td>Upgraded</td>\n",
       "      <td>109</td>\n",
       "    </tr>\n",
       "    <tr>\n",
       "      <th>41</th>\n",
       "      <td>2021-08-31</td>\n",
       "      <td>Upgraded</td>\n",
       "      <td>105</td>\n",
       "    </tr>\n",
       "    <tr>\n",
       "      <th>37</th>\n",
       "      <td>2021-08-27</td>\n",
       "      <td>Upgraded</td>\n",
       "      <td>103</td>\n",
       "    </tr>\n",
       "    <tr>\n",
       "      <th>97</th>\n",
       "      <td>2021-09-28</td>\n",
       "      <td>Upgraded</td>\n",
       "      <td>102</td>\n",
       "    </tr>\n",
       "    <tr>\n",
       "      <th>167</th>\n",
       "      <td>2021-11-02</td>\n",
       "      <td>Upgraded</td>\n",
       "      <td>102</td>\n",
       "    </tr>\n",
       "  </tbody>\n",
       "</table>\n",
       "</div>"
      ],
      "text/plain": [
       "          date change_flag  driver_id\n",
       "21  2021-08-17    Upgraded        109\n",
       "41  2021-08-31    Upgraded        105\n",
       "37  2021-08-27    Upgraded        103\n",
       "97  2021-09-28    Upgraded        102\n",
       "167 2021-11-02    Upgraded        102"
      ]
     },
     "execution_count": 22,
     "metadata": {},
     "output_type": "execute_result"
    }
   ],
   "source": [
    "_df = df_cohort.groupby(['date', 'change_flag']).agg({'driver_id':'count'}).reset_index()\n",
    "\n",
    "# Most Upgrades in a day\n",
    "_df[_df['change_flag'] == 'Upgraded'].sort_values(by='driver_id', ascending=False).head()"
   ]
  },
  {
   "cell_type": "code",
   "execution_count": 23,
   "metadata": {},
   "outputs": [
    {
     "data": {
      "text/html": [
       "<div>\n",
       "<style scoped>\n",
       "    .dataframe tbody tr th:only-of-type {\n",
       "        vertical-align: middle;\n",
       "    }\n",
       "\n",
       "    .dataframe tbody tr th {\n",
       "        vertical-align: top;\n",
       "    }\n",
       "\n",
       "    .dataframe thead th {\n",
       "        text-align: right;\n",
       "    }\n",
       "</style>\n",
       "<table border=\"1\" class=\"dataframe\">\n",
       "  <thead>\n",
       "    <tr style=\"text-align: right;\">\n",
       "      <th></th>\n",
       "      <th>date</th>\n",
       "      <th>change_flag</th>\n",
       "      <th>driver_id</th>\n",
       "    </tr>\n",
       "  </thead>\n",
       "  <tbody>\n",
       "    <tr>\n",
       "      <th>93</th>\n",
       "      <td>2021-09-27</td>\n",
       "      <td>Downgraded</td>\n",
       "      <td>169</td>\n",
       "    </tr>\n",
       "    <tr>\n",
       "      <th>135</th>\n",
       "      <td>2021-10-18</td>\n",
       "      <td>Downgraded</td>\n",
       "      <td>167</td>\n",
       "    </tr>\n",
       "    <tr>\n",
       "      <th>191</th>\n",
       "      <td>2021-11-15</td>\n",
       "      <td>Downgraded</td>\n",
       "      <td>157</td>\n",
       "    </tr>\n",
       "    <tr>\n",
       "      <th>163</th>\n",
       "      <td>2021-11-01</td>\n",
       "      <td>Downgraded</td>\n",
       "      <td>154</td>\n",
       "    </tr>\n",
       "    <tr>\n",
       "      <th>219</th>\n",
       "      <td>2021-11-29</td>\n",
       "      <td>Downgraded</td>\n",
       "      <td>149</td>\n",
       "    </tr>\n",
       "  </tbody>\n",
       "</table>\n",
       "</div>"
      ],
      "text/plain": [
       "          date change_flag  driver_id\n",
       "93  2021-09-27  Downgraded        169\n",
       "135 2021-10-18  Downgraded        167\n",
       "191 2021-11-15  Downgraded        157\n",
       "163 2021-11-01  Downgraded        154\n",
       "219 2021-11-29  Downgraded        149"
      ]
     },
     "execution_count": 23,
     "metadata": {},
     "output_type": "execute_result"
    }
   ],
   "source": [
    "# Most Downgrades in a day\n",
    "_df[_df['change_flag'] == 'Downgraded'].sort_values(by='driver_id', ascending=False).head()"
   ]
  },
  {
   "cell_type": "code",
   "execution_count": 24,
   "metadata": {},
   "outputs": [
    {
     "data": {
      "text/html": [
       "<div>\n",
       "<style scoped>\n",
       "    .dataframe tbody tr th:only-of-type {\n",
       "        vertical-align: middle;\n",
       "    }\n",
       "\n",
       "    .dataframe tbody tr th {\n",
       "        vertical-align: top;\n",
       "    }\n",
       "\n",
       "    .dataframe thead th {\n",
       "        text-align: right;\n",
       "    }\n",
       "</style>\n",
       "<table border=\"1\" class=\"dataframe\">\n",
       "  <thead>\n",
       "    <tr style=\"text-align: right;\">\n",
       "      <th></th>\n",
       "      <th>date</th>\n",
       "      <th>change_flag</th>\n",
       "      <th>driver_id</th>\n",
       "    </tr>\n",
       "  </thead>\n",
       "  <tbody>\n",
       "    <tr>\n",
       "      <th>0</th>\n",
       "      <td>2021-08-03</td>\n",
       "      <td>NoChange</td>\n",
       "      <td>971</td>\n",
       "    </tr>\n",
       "    <tr>\n",
       "      <th>68</th>\n",
       "      <td>2021-09-14</td>\n",
       "      <td>NoChange</td>\n",
       "      <td>931</td>\n",
       "    </tr>\n",
       "    <tr>\n",
       "      <th>2</th>\n",
       "      <td>2021-08-04</td>\n",
       "      <td>NoChange</td>\n",
       "      <td>930</td>\n",
       "    </tr>\n",
       "    <tr>\n",
       "      <th>4</th>\n",
       "      <td>2021-08-05</td>\n",
       "      <td>NoChange</td>\n",
       "      <td>925</td>\n",
       "    </tr>\n",
       "    <tr>\n",
       "      <th>6</th>\n",
       "      <td>2021-08-06</td>\n",
       "      <td>NoChange</td>\n",
       "      <td>923</td>\n",
       "    </tr>\n",
       "  </tbody>\n",
       "</table>\n",
       "</div>"
      ],
      "text/plain": [
       "         date change_flag  driver_id\n",
       "0  2021-08-03    NoChange        971\n",
       "68 2021-09-14    NoChange        931\n",
       "2  2021-08-04    NoChange        930\n",
       "4  2021-08-05    NoChange        925\n",
       "6  2021-08-06    NoChange        923"
      ]
     },
     "execution_count": 24,
     "metadata": {},
     "output_type": "execute_result"
    }
   ],
   "source": [
    "# Most No Changes in a day\n",
    "_df[_df['change_flag'] == 'NoChange'].sort_values(by='driver_id', ascending=False).head()"
   ]
  },
  {
   "cell_type": "markdown",
   "metadata": {},
   "source": [
    "### Drivers with most upgrades or downgrades during the analysis period"
   ]
  },
  {
   "cell_type": "code",
   "execution_count": 25,
   "metadata": {},
   "outputs": [],
   "source": [
    "_df = df_cohort.groupby(['driver_id', 'change_flag']).agg({'flag': 'count'}).reset_index()"
   ]
  },
  {
   "cell_type": "code",
   "execution_count": 26,
   "metadata": {},
   "outputs": [
    {
     "data": {
      "text/html": [
       "<div>\n",
       "<style scoped>\n",
       "    .dataframe tbody tr th:only-of-type {\n",
       "        vertical-align: middle;\n",
       "    }\n",
       "\n",
       "    .dataframe tbody tr th {\n",
       "        vertical-align: top;\n",
       "    }\n",
       "\n",
       "    .dataframe thead th {\n",
       "        text-align: right;\n",
       "    }\n",
       "</style>\n",
       "<table border=\"1\" class=\"dataframe\">\n",
       "  <thead>\n",
       "    <tr style=\"text-align: right;\">\n",
       "      <th></th>\n",
       "      <th>driver_id</th>\n",
       "      <th>change_flag</th>\n",
       "      <th>flag</th>\n",
       "    </tr>\n",
       "  </thead>\n",
       "  <tbody>\n",
       "    <tr>\n",
       "      <th>2414</th>\n",
       "      <td>d08104b6ad15</td>\n",
       "      <td>Upgraded</td>\n",
       "      <td>13</td>\n",
       "    </tr>\n",
       "    <tr>\n",
       "      <th>2788</th>\n",
       "      <td>eeed53e7a9af</td>\n",
       "      <td>Upgraded</td>\n",
       "      <td>12</td>\n",
       "    </tr>\n",
       "    <tr>\n",
       "      <th>785</th>\n",
       "      <td>43c1e1476447</td>\n",
       "      <td>Upgraded</td>\n",
       "      <td>12</td>\n",
       "    </tr>\n",
       "    <tr>\n",
       "      <th>287</th>\n",
       "      <td>1a5aa9a4a2fa</td>\n",
       "      <td>Upgraded</td>\n",
       "      <td>12</td>\n",
       "    </tr>\n",
       "    <tr>\n",
       "      <th>2185</th>\n",
       "      <td>ba835a68df25</td>\n",
       "      <td>Upgraded</td>\n",
       "      <td>12</td>\n",
       "    </tr>\n",
       "  </tbody>\n",
       "</table>\n",
       "</div>"
      ],
      "text/plain": [
       "         driver_id change_flag  flag\n",
       "2414  d08104b6ad15    Upgraded    13\n",
       "2788  eeed53e7a9af    Upgraded    12\n",
       "785   43c1e1476447    Upgraded    12\n",
       "287   1a5aa9a4a2fa    Upgraded    12\n",
       "2185  ba835a68df25    Upgraded    12"
      ]
     },
     "execution_count": 26,
     "metadata": {},
     "output_type": "execute_result"
    }
   ],
   "source": [
    "# Most Upgrades by driver\n",
    "_df[_df['change_flag'] == 'Upgraded'].sort_values(by='flag', ascending=False).head()"
   ]
  },
  {
   "cell_type": "code",
   "execution_count": 27,
   "metadata": {},
   "outputs": [
    {
     "data": {
      "text/html": [
       "<div>\n",
       "<style scoped>\n",
       "    .dataframe tbody tr th:only-of-type {\n",
       "        vertical-align: middle;\n",
       "    }\n",
       "\n",
       "    .dataframe tbody tr th {\n",
       "        vertical-align: top;\n",
       "    }\n",
       "\n",
       "    .dataframe thead th {\n",
       "        text-align: right;\n",
       "    }\n",
       "</style>\n",
       "<table border=\"1\" class=\"dataframe\">\n",
       "  <thead>\n",
       "    <tr style=\"text-align: right;\">\n",
       "      <th></th>\n",
       "      <th>driver_id</th>\n",
       "      <th>change_flag</th>\n",
       "      <th>flag</th>\n",
       "    </tr>\n",
       "  </thead>\n",
       "  <tbody>\n",
       "    <tr>\n",
       "      <th>285</th>\n",
       "      <td>1a5aa9a4a2fa</td>\n",
       "      <td>Downgraded</td>\n",
       "      <td>12</td>\n",
       "    </tr>\n",
       "    <tr>\n",
       "      <th>2412</th>\n",
       "      <td>d08104b6ad15</td>\n",
       "      <td>Downgraded</td>\n",
       "      <td>12</td>\n",
       "    </tr>\n",
       "    <tr>\n",
       "      <th>168</th>\n",
       "      <td>103f2ddd31f1</td>\n",
       "      <td>Downgraded</td>\n",
       "      <td>10</td>\n",
       "    </tr>\n",
       "    <tr>\n",
       "      <th>2415</th>\n",
       "      <td>d0b14cf29cb4</td>\n",
       "      <td>Downgraded</td>\n",
       "      <td>10</td>\n",
       "    </tr>\n",
       "    <tr>\n",
       "      <th>447</th>\n",
       "      <td>28b7e2118b63</td>\n",
       "      <td>Downgraded</td>\n",
       "      <td>10</td>\n",
       "    </tr>\n",
       "  </tbody>\n",
       "</table>\n",
       "</div>"
      ],
      "text/plain": [
       "         driver_id change_flag  flag\n",
       "285   1a5aa9a4a2fa  Downgraded    12\n",
       "2412  d08104b6ad15  Downgraded    12\n",
       "168   103f2ddd31f1  Downgraded    10\n",
       "2415  d0b14cf29cb4  Downgraded    10\n",
       "447   28b7e2118b63  Downgraded    10"
      ]
     },
     "execution_count": 27,
     "metadata": {},
     "output_type": "execute_result"
    }
   ],
   "source": [
    "# Most Downgrades by driver\n",
    "_df[_df['change_flag'] == 'Downgraded'].sort_values(by='flag', ascending=False).head()"
   ]
  },
  {
   "cell_type": "markdown",
   "metadata": {},
   "source": [
    "### Drivers who spent most days as `Ultra Active Driver` on consecutive days during the Analysis period"
   ]
  },
  {
   "cell_type": "code",
   "execution_count": 28,
   "metadata": {},
   "outputs": [
    {
     "data": {
      "text/plain": [
       "driver_id\n",
       "4f29ba60cf48    99\n",
       "4699212de1d2    95\n",
       "e1be181e5234    84\n",
       "3d2732c440c7    82\n",
       "86de29ae0a99    81\n",
       "983b614e1a96    74\n",
       "c356f7b8d4f5    72\n",
       "3017ecd0079f    70\n",
       "3fc54bdbf896    70\n",
       "21c373ed732f    65\n",
       "dtype: int64"
      ]
     },
     "execution_count": 28,
     "metadata": {},
     "output_type": "execute_result"
    }
   ],
   "source": [
    "def group_apply(df):\n",
    "    df = df[df.category == 'UAD']\n",
    "    df.sort_values(by='date', inplace=True)\n",
    "\n",
    "    days_list = list()\n",
    "    last_day = None\n",
    "    for ri in range(len(df)):\n",
    "        val = df.iloc[ri]['change_flag']\n",
    "        if val == 'Upgraded':\n",
    "            if last_day:\n",
    "                days = (last_day - first_day).days\n",
    "                days_list.append(days)\n",
    "                last_day = None\n",
    "            else:\n",
    "                days_list.append(1)\n",
    "            first_day = df.iloc[ri]['date']\n",
    "\n",
    "        elif val == 'NoChange':\n",
    "            last_day = df.iloc[ri]['date']\n",
    "    \n",
    "    # at the end of loop\n",
    "    if last_day:\n",
    "        days = (last_day - first_day).days\n",
    "        days_list.append(days)\n",
    "    else:\n",
    "        days_list.append(1)\n",
    "\n",
    "    return max(days_list)\n",
    "\n",
    "_df = df_cohort.groupby('driver_id').apply(group_apply)\n",
    "_df.sort_values(ascending=False).head(10)"
   ]
  },
  {
   "cell_type": "markdown",
   "metadata": {},
   "source": [
    "### Drivers who spent most days as `Passive Driver` overall during the Analysis period"
   ]
  },
  {
   "cell_type": "code",
   "execution_count": 29,
   "metadata": {},
   "outputs": [
    {
     "data": {
      "text/html": [
       "<div>\n",
       "<style scoped>\n",
       "    .dataframe tbody tr th:only-of-type {\n",
       "        vertical-align: middle;\n",
       "    }\n",
       "\n",
       "    .dataframe tbody tr th {\n",
       "        vertical-align: top;\n",
       "    }\n",
       "\n",
       "    .dataframe thead th {\n",
       "        text-align: right;\n",
       "    }\n",
       "</style>\n",
       "<table border=\"1\" class=\"dataframe\">\n",
       "  <thead>\n",
       "    <tr style=\"text-align: right;\">\n",
       "      <th></th>\n",
       "      <th>driver_id</th>\n",
       "      <th>category</th>\n",
       "      <th>flag</th>\n",
       "    </tr>\n",
       "  </thead>\n",
       "  <tbody>\n",
       "    <tr>\n",
       "      <th>1077</th>\n",
       "      <td>46f901a045b0</td>\n",
       "      <td>PD</td>\n",
       "      <td>53</td>\n",
       "    </tr>\n",
       "    <tr>\n",
       "      <th>2653</th>\n",
       "      <td>b11cf9da722c</td>\n",
       "      <td>PD</td>\n",
       "      <td>42</td>\n",
       "    </tr>\n",
       "    <tr>\n",
       "      <th>3539</th>\n",
       "      <td>eb1b72b9856c</td>\n",
       "      <td>PD</td>\n",
       "      <td>40</td>\n",
       "    </tr>\n",
       "    <tr>\n",
       "      <th>2395</th>\n",
       "      <td>a1b00c211717</td>\n",
       "      <td>PD</td>\n",
       "      <td>40</td>\n",
       "    </tr>\n",
       "    <tr>\n",
       "      <th>1490</th>\n",
       "      <td>63530e963b0d</td>\n",
       "      <td>PD</td>\n",
       "      <td>38</td>\n",
       "    </tr>\n",
       "    <tr>\n",
       "      <th>1725</th>\n",
       "      <td>769d0ed227ae</td>\n",
       "      <td>PD</td>\n",
       "      <td>36</td>\n",
       "    </tr>\n",
       "    <tr>\n",
       "      <th>2626</th>\n",
       "      <td>af9d6a81aeaa</td>\n",
       "      <td>PD</td>\n",
       "      <td>36</td>\n",
       "    </tr>\n",
       "    <tr>\n",
       "      <th>2590</th>\n",
       "      <td>aea53ec74820</td>\n",
       "      <td>PD</td>\n",
       "      <td>35</td>\n",
       "    </tr>\n",
       "    <tr>\n",
       "      <th>119</th>\n",
       "      <td>08ba198865d6</td>\n",
       "      <td>PD</td>\n",
       "      <td>35</td>\n",
       "    </tr>\n",
       "    <tr>\n",
       "      <th>1493</th>\n",
       "      <td>63acfadae72e</td>\n",
       "      <td>PD</td>\n",
       "      <td>35</td>\n",
       "    </tr>\n",
       "  </tbody>\n",
       "</table>\n",
       "</div>"
      ],
      "text/plain": [
       "         driver_id category  flag\n",
       "1077  46f901a045b0       PD    53\n",
       "2653  b11cf9da722c       PD    42\n",
       "3539  eb1b72b9856c       PD    40\n",
       "2395  a1b00c211717       PD    40\n",
       "1490  63530e963b0d       PD    38\n",
       "1725  769d0ed227ae       PD    36\n",
       "2626  af9d6a81aeaa       PD    36\n",
       "2590  aea53ec74820       PD    35\n",
       "119   08ba198865d6       PD    35\n",
       "1493  63acfadae72e       PD    35"
      ]
     },
     "execution_count": 29,
     "metadata": {},
     "output_type": "execute_result"
    }
   ],
   "source": [
    "# Of the total - 122 days\n",
    "_df = df_cohort.groupby(['driver_id', 'category']).agg({'flag':'count'}).reset_index()\n",
    "_df = _df[_df['category'] == 'PD']\n",
    "_df.sort_values(by='flag', ascending=False).head(10)"
   ]
  },
  {
   "cell_type": "markdown",
   "metadata": {},
   "source": [
    "### Average number of trips, time_spent or distance by `Ultra Active Drivers`"
   ]
  },
  {
   "cell_type": "code",
   "execution_count": 30,
   "metadata": {},
   "outputs": [
    {
     "data": {
      "text/plain": [
       "trips         1.518745\n",
       "time_spent    8.607248\n",
       "distance      5.020904\n",
       "dtype: float64"
      ]
     },
     "execution_count": 30,
     "metadata": {},
     "output_type": "execute_result"
    }
   ],
   "source": [
    "# time in minutes, distance in km\n",
    "_df = df_cohort[(df_cohort['category'] == 'UAD')]\n",
    "drivers = _df.driver_id.tolist()\n",
    "_df = df_delivery[df_delivery['driver_id'].isin(drivers)]\n",
    "_df = _df[_df['trips'] != 0]\n",
    "_df[['trips', 'time_spent', 'distance']].mean()"
   ]
  },
  {
   "cell_type": "markdown",
   "metadata": {},
   "source": [
    "### Top drivers with most number of trips, time_spent or distance under `Ultra Active Drivers` category"
   ]
  },
  {
   "cell_type": "code",
   "execution_count": 31,
   "metadata": {},
   "outputs": [
    {
     "data": {
      "text/html": [
       "<div>\n",
       "<style scoped>\n",
       "    .dataframe tbody tr th:only-of-type {\n",
       "        vertical-align: middle;\n",
       "    }\n",
       "\n",
       "    .dataframe tbody tr th {\n",
       "        vertical-align: top;\n",
       "    }\n",
       "\n",
       "    .dataframe thead th {\n",
       "        text-align: right;\n",
       "    }\n",
       "</style>\n",
       "<table border=\"1\" class=\"dataframe\">\n",
       "  <thead>\n",
       "    <tr style=\"text-align: right;\">\n",
       "      <th></th>\n",
       "      <th>driver_id</th>\n",
       "      <th>trips</th>\n",
       "      <th>time_spent</th>\n",
       "      <th>distance</th>\n",
       "    </tr>\n",
       "  </thead>\n",
       "  <tbody>\n",
       "    <tr>\n",
       "      <th>676</th>\n",
       "      <td>c356f7b8d4f5</td>\n",
       "      <td>66.0</td>\n",
       "      <td>379.172</td>\n",
       "      <td>221.20</td>\n",
       "    </tr>\n",
       "    <tr>\n",
       "      <th>277</th>\n",
       "      <td>4f29ba60cf48</td>\n",
       "      <td>64.0</td>\n",
       "      <td>386.632</td>\n",
       "      <td>225.54</td>\n",
       "    </tr>\n",
       "    <tr>\n",
       "      <th>246</th>\n",
       "      <td>4699212de1d2</td>\n",
       "      <td>62.0</td>\n",
       "      <td>372.145</td>\n",
       "      <td>217.09</td>\n",
       "    </tr>\n",
       "    <tr>\n",
       "      <th>675</th>\n",
       "      <td>c2dd1bf17660</td>\n",
       "      <td>61.0</td>\n",
       "      <td>366.242</td>\n",
       "      <td>213.68</td>\n",
       "    </tr>\n",
       "    <tr>\n",
       "      <th>779</th>\n",
       "      <td>e1be181e5234</td>\n",
       "      <td>61.0</td>\n",
       "      <td>356.537</td>\n",
       "      <td>207.99</td>\n",
       "    </tr>\n",
       "  </tbody>\n",
       "</table>\n",
       "</div>"
      ],
      "text/plain": [
       "        driver_id  trips  time_spent  distance\n",
       "676  c356f7b8d4f5   66.0     379.172    221.20\n",
       "277  4f29ba60cf48   64.0     386.632    225.54\n",
       "246  4699212de1d2   62.0     372.145    217.09\n",
       "675  c2dd1bf17660   61.0     366.242    213.68\n",
       "779  e1be181e5234   61.0     356.537    207.99"
      ]
     },
     "execution_count": 31,
     "metadata": {},
     "output_type": "execute_result"
    }
   ],
   "source": [
    "# time in minutes, distance in km\n",
    "_df = _df.groupby('driver_id').agg({'trips': 'sum', 'time_spent': 'sum', 'distance': 'sum'}).reset_index()\n",
    "_df.sort_values(by='trips', ascending=False).head(5)\n"
   ]
  },
  {
   "cell_type": "code",
   "execution_count": 32,
   "metadata": {},
   "outputs": [
    {
     "data": {
      "text/html": [
       "<div>\n",
       "<style scoped>\n",
       "    .dataframe tbody tr th:only-of-type {\n",
       "        vertical-align: middle;\n",
       "    }\n",
       "\n",
       "    .dataframe tbody tr th {\n",
       "        vertical-align: top;\n",
       "    }\n",
       "\n",
       "    .dataframe thead th {\n",
       "        text-align: right;\n",
       "    }\n",
       "</style>\n",
       "<table border=\"1\" class=\"dataframe\">\n",
       "  <thead>\n",
       "    <tr style=\"text-align: right;\">\n",
       "      <th></th>\n",
       "      <th>driver_id</th>\n",
       "      <th>trips</th>\n",
       "      <th>time_spent</th>\n",
       "      <th>distance</th>\n",
       "    </tr>\n",
       "  </thead>\n",
       "  <tbody>\n",
       "    <tr>\n",
       "      <th>277</th>\n",
       "      <td>4f29ba60cf48</td>\n",
       "      <td>64.0</td>\n",
       "      <td>386.632</td>\n",
       "      <td>225.54</td>\n",
       "    </tr>\n",
       "    <tr>\n",
       "      <th>676</th>\n",
       "      <td>c356f7b8d4f5</td>\n",
       "      <td>66.0</td>\n",
       "      <td>379.172</td>\n",
       "      <td>221.20</td>\n",
       "    </tr>\n",
       "    <tr>\n",
       "      <th>246</th>\n",
       "      <td>4699212de1d2</td>\n",
       "      <td>62.0</td>\n",
       "      <td>372.145</td>\n",
       "      <td>217.09</td>\n",
       "    </tr>\n",
       "    <tr>\n",
       "      <th>675</th>\n",
       "      <td>c2dd1bf17660</td>\n",
       "      <td>61.0</td>\n",
       "      <td>366.242</td>\n",
       "      <td>213.68</td>\n",
       "    </tr>\n",
       "    <tr>\n",
       "      <th>215</th>\n",
       "      <td>3d2732c440c7</td>\n",
       "      <td>60.0</td>\n",
       "      <td>363.194</td>\n",
       "      <td>211.87</td>\n",
       "    </tr>\n",
       "  </tbody>\n",
       "</table>\n",
       "</div>"
      ],
      "text/plain": [
       "        driver_id  trips  time_spent  distance\n",
       "277  4f29ba60cf48   64.0     386.632    225.54\n",
       "676  c356f7b8d4f5   66.0     379.172    221.20\n",
       "246  4699212de1d2   62.0     372.145    217.09\n",
       "675  c2dd1bf17660   61.0     366.242    213.68\n",
       "215  3d2732c440c7   60.0     363.194    211.87"
      ]
     },
     "execution_count": 32,
     "metadata": {},
     "output_type": "execute_result"
    }
   ],
   "source": [
    "_df.sort_values(by='time_spent', ascending=False).head(5)"
   ]
  },
  {
   "cell_type": "code",
   "execution_count": 33,
   "metadata": {},
   "outputs": [
    {
     "data": {
      "text/html": [
       "<div>\n",
       "<style scoped>\n",
       "    .dataframe tbody tr th:only-of-type {\n",
       "        vertical-align: middle;\n",
       "    }\n",
       "\n",
       "    .dataframe tbody tr th {\n",
       "        vertical-align: top;\n",
       "    }\n",
       "\n",
       "    .dataframe thead th {\n",
       "        text-align: right;\n",
       "    }\n",
       "</style>\n",
       "<table border=\"1\" class=\"dataframe\">\n",
       "  <thead>\n",
       "    <tr style=\"text-align: right;\">\n",
       "      <th></th>\n",
       "      <th>driver_id</th>\n",
       "      <th>trips</th>\n",
       "      <th>time_spent</th>\n",
       "      <th>distance</th>\n",
       "    </tr>\n",
       "  </thead>\n",
       "  <tbody>\n",
       "    <tr>\n",
       "      <th>277</th>\n",
       "      <td>4f29ba60cf48</td>\n",
       "      <td>64.0</td>\n",
       "      <td>386.632</td>\n",
       "      <td>225.54</td>\n",
       "    </tr>\n",
       "    <tr>\n",
       "      <th>676</th>\n",
       "      <td>c356f7b8d4f5</td>\n",
       "      <td>66.0</td>\n",
       "      <td>379.172</td>\n",
       "      <td>221.20</td>\n",
       "    </tr>\n",
       "    <tr>\n",
       "      <th>246</th>\n",
       "      <td>4699212de1d2</td>\n",
       "      <td>62.0</td>\n",
       "      <td>372.145</td>\n",
       "      <td>217.09</td>\n",
       "    </tr>\n",
       "    <tr>\n",
       "      <th>675</th>\n",
       "      <td>c2dd1bf17660</td>\n",
       "      <td>61.0</td>\n",
       "      <td>366.242</td>\n",
       "      <td>213.68</td>\n",
       "    </tr>\n",
       "    <tr>\n",
       "      <th>215</th>\n",
       "      <td>3d2732c440c7</td>\n",
       "      <td>60.0</td>\n",
       "      <td>363.194</td>\n",
       "      <td>211.87</td>\n",
       "    </tr>\n",
       "  </tbody>\n",
       "</table>\n",
       "</div>"
      ],
      "text/plain": [
       "        driver_id  trips  time_spent  distance\n",
       "277  4f29ba60cf48   64.0     386.632    225.54\n",
       "676  c356f7b8d4f5   66.0     379.172    221.20\n",
       "246  4699212de1d2   62.0     372.145    217.09\n",
       "675  c2dd1bf17660   61.0     366.242    213.68\n",
       "215  3d2732c440c7   60.0     363.194    211.87"
      ]
     },
     "execution_count": 33,
     "metadata": {},
     "output_type": "execute_result"
    }
   ],
   "source": [
    "_df.sort_values(by='distance', ascending=False).head(5)"
   ]
  },
  {
   "cell_type": "code",
   "execution_count": null,
   "metadata": {},
   "outputs": [],
   "source": []
  }
 ],
 "metadata": {
  "interpreter": {
   "hash": "8f5ceb89d26311d8d93d1b8d4f64fa0f78943746ba4d26a4b4b2ceeccc360ee0"
  },
  "kernelspec": {
   "display_name": "Python 3",
   "language": "python",
   "name": "python3"
  },
  "language_info": {
   "codemirror_mode": {
    "name": "ipython",
    "version": 3
   },
   "file_extension": ".py",
   "mimetype": "text/x-python",
   "name": "python",
   "nbconvert_exporter": "python",
   "pygments_lexer": "ipython3",
   "version": "3.9.1"
  }
 },
 "nbformat": 4,
 "nbformat_minor": 2
}
